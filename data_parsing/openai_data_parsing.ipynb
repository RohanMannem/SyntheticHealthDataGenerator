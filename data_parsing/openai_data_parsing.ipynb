{
 "cells": [
  {
   "cell_type": "code",
   "execution_count": 1,
   "metadata": {},
   "outputs": [
    {
     "name": "stdout",
     "output_type": "stream",
     "text": [
      "\n",
      "  \"Name\": \"Eva Martins\",\n",
      "  \"Age\": 34,\n",
      "  \"Gender\": \"female\",\n",
      "  \"Blood Type\": \"O\",\n",
      "  \"Medical Condition\": \"hypertension\",\n",
      "  \"Date of Admission\": \"2023-08-15\",\n",
      "  \"Doctor\": \"Dr. Patel\",\n",
      "  \"Hospital\": \"City General Hospital\",\n",
      "  \"Insurance Provider\": \"United Healthcare\",\n",
      "  \"Billing Amount\": 12000.0,\n",
      "  \"Room Number\": 205,\n",
      "  \"Admission Type\": \"urgent\",\n",
      "  \"Discharge Date\": \"2023-08-20\",\n",
      "  \"Medication\": \"amlodipine\",\n",
      "  \"Test Results\": \"blood pressure high\"\n",
      "\n",
      "['']\n"
     ]
    },
    {
     "ename": "IndexError",
     "evalue": "list index out of range",
     "output_type": "error",
     "traceback": [
      "\u001b[0;31m---------------------------------------------------------------------------\u001b[0m",
      "\u001b[0;31mIndexError\u001b[0m                                Traceback (most recent call last)",
      "Cell \u001b[0;32mIn[1], line 23\u001b[0m\n\u001b[1;32m     21\u001b[0m     feature \u001b[38;5;241m=\u001b[39m feature\u001b[38;5;241m.\u001b[39mstrip()\u001b[38;5;241m.\u001b[39mreplace(\u001b[38;5;124m'\u001b[39m\u001b[38;5;124m\"\u001b[39m\u001b[38;5;124m'\u001b[39m, \u001b[38;5;124m'\u001b[39m\u001b[38;5;124m'\u001b[39m)\u001b[38;5;241m.\u001b[39msplit(\u001b[38;5;124m'\u001b[39m\u001b[38;5;124m:\u001b[39m\u001b[38;5;124m'\u001b[39m)\n\u001b[1;32m     22\u001b[0m     \u001b[38;5;28mprint\u001b[39m(feature)\n\u001b[0;32m---> 23\u001b[0m     key, value \u001b[38;5;241m=\u001b[39m feature[\u001b[38;5;241m0\u001b[39m]\u001b[38;5;241m.\u001b[39mstrip(), \u001b[43mfeature\u001b[49m\u001b[43m[\u001b[49m\u001b[38;5;241;43m1\u001b[39;49m\u001b[43m]\u001b[49m\u001b[38;5;241m.\u001b[39mstrip()\n\u001b[1;32m     24\u001b[0m     data_dictionary[key]\u001b[38;5;241m.\u001b[39mappend(value)\n\u001b[1;32m     25\u001b[0m \u001b[38;5;28;01mbreak\u001b[39;00m\n",
      "\u001b[0;31mIndexError\u001b[0m: list index out of range"
     ]
    }
   ],
   "source": [
    "import re\n",
    "from collections import defaultdict\n",
    "\n",
    "with open('../full_data/advanced_dev_message_w_basic_prompt_records.txt', 'r') as file:\n",
    "    content = file.read()\n",
    "\n",
    "# print(content)\n",
    "\n",
    "# Regular expression to extract content within curly braces\n",
    "pattern = r\"\\{([^}]*)\\}\"  # Matches content inside {}\n",
    "\n",
    "# Find all matches\n",
    "matches = re.findall(pattern, content)\n",
    "# print(matches[0])\n",
    "\n",
    "# Process each match to create key-value dictionaries\n",
    "data_dictionary = defaultdict(list)\n",
    "for match in matches:\n",
    "    print(match)\n",
    "    for feature in match.split(\"\\n\"):\n",
    "        feature = feature.strip().replace('\"', '').split(':')\n",
    "        print(feature)\n",
    "        key, value = feature[0].strip(), feature[1].strip()\n",
    "        data_dictionary[key].append(value)\n",
    "    break\n",
    "\n",
    "print(data_dictionary)"
   ]
  }
 ],
 "metadata": {
  "kernelspec": {
   "display_name": "venv",
   "language": "python",
   "name": "python3"
  },
  "language_info": {
   "codemirror_mode": {
    "name": "ipython",
    "version": 3
   },
   "file_extension": ".py",
   "mimetype": "text/x-python",
   "name": "python",
   "nbconvert_exporter": "python",
   "pygments_lexer": "ipython3",
   "version": "3.11.4"
  }
 },
 "nbformat": 4,
 "nbformat_minor": 2
}
