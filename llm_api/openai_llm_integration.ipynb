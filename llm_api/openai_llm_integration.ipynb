{
 "cells": [
  {
   "cell_type": "code",
   "execution_count": 14,
   "metadata": {},
   "outputs": [
    {
     "name": "stdout",
     "output_type": "stream",
     "text": [
      "The autoreload extension is already loaded. To reload it, use:\n",
      "  %reload_ext autoreload\n"
     ]
    }
   ],
   "source": [
    "%load_ext autoreload\n",
    "%autoreload 2\n",
    "\n",
    "from openai import OpenAI\n",
    "from prompts import *\n",
    "import json\n",
    "import csv\n",
    "import os"
   ]
  },
  {
   "cell_type": "code",
   "execution_count": 15,
   "metadata": {},
   "outputs": [],
   "source": [
    "api_key = \"\"\n",
    "\n",
    "client = OpenAI(\n",
    "  api_key=api_key\n",
    ")"
   ]
  },
  {
   "cell_type": "code",
   "execution_count": 16,
   "metadata": {},
   "outputs": [
    {
     "name": "stdout",
     "output_type": "stream",
     "text": [
      "\n",
      "You are generating synthetic healthcare data for a research project aiming to evaluate the realism and utility of synthetic datasets. The data must adhere to the following schema and meet the highest standards of quality, diversity, and logical coherence:\n",
      "\n",
      "Schema:\n",
      "- Name: string (e.g., \"Alex Smith\"; ensure diversity across names)\n",
      "- Age: integer (0-100; follow a realistic demographic distribution, e.g., more adults than children)\n",
      "- Gender: categorical (values: \"male\", \"female\", \"other\"; reflect real-world proportions)\n",
      "- Blood Type: categorical (values: \"A\", \"B\", \"AB\", \"O\"; realistic distribution based on population statistics)\n",
      "- Medical Condition: string (e.g., \"diabetes\", \"flu\", \"hypertension\"; include a mix of common and rare conditions)\n",
      "- Date of Admission: string (format: \"YYYY-MM-DD\"; ensure temporal coherence)\n",
      "- Doctor: string (e.g., \"Dr. Patel\"; match specialization to Medical Condition)\n",
      "- Hospital: string (e.g., \"Metropolitan Health Center\"; maintain logical variety in hospital names)\n",
      "- Insurance Provider: string (e.g., \"Cigna\", \"United Healthcare\")\n",
      "- Billing Amount: float (range: 100.0–50,000.0; introduce realistic outliers and variability)\n",
      "- Room Number: integer (ensure logical sequencing within hospitals)\n",
      "- Admission Type: categorical (values: \"emergency\", \"elective\", \"urgent\"; ensure realistic distributions based on Medical Condition)\n",
      "- Discharge Date: string (format: \"YYYY-MM-DD\"; ensure coherence with Admission Date)\n",
      "- Medication: string (e.g., \"metformin\", \"antibiotics\"; specific to Medical Condition)\n",
      "- Test Results: string (e.g., \"HbA1c high\", \"viral test positive\"; ensure relevance to Medical Condition)\n",
      "\n",
      "Your response must:\n",
      "1. Maintain diversity and realism across all attributes.\n",
      "2. Ensure logical relationships between attributes (e.g., higher Billing Amount for emergency cases).\n",
      "3. Introduce outliers and edge cases (e.g., patients over 90 years old with complex medical histories).\n",
      "4. Present the data in a clean JSON-like format, one object per row.\n",
      "\n",
      "Focus on making the data statistically similar to real-world healthcare datasets and suitable for training machine learning models.\n",
      "\n",
      "Generate 10 rows of synthetic healthcare data.\n"
     ]
    }
   ],
   "source": [
    "# print(basic_developer_message)\n",
    "\n",
    "print(advanced_developer_message)\n",
    "print(basic_prompts[0])\n"
   ]
  },
  {
   "cell_type": "code",
   "execution_count": 17,
   "metadata": {},
   "outputs": [],
   "source": [
    "# basic_completion = client.chat.completions.create(\n",
    "#   model=\"gpt-4o\",\n",
    "#   store=True,\n",
    "#   messages=[\n",
    "#       {\n",
    "#           \"role\": \"developer\",\n",
    "#           \"content\": basic_developer_message\n",
    "#       },\n",
    "#       {\n",
    "#           \"role\": \"user\",\n",
    "#           \"content\": basic_prompts[0]\n",
    "#       }\n",
    "#   ]\n",
    "# )"
   ]
  },
  {
   "cell_type": "code",
   "execution_count": 30,
   "metadata": {},
   "outputs": [],
   "source": [
    "full_data = []\n",
    "for seed in range(100):\n",
    "    data_generation = client.chat.completions.create(\n",
    "        model=\"gpt-4o\",\n",
    "        store=True,\n",
    "        messages=[\n",
    "            {\n",
    "                \"role\": \"developer\",\n",
    "                \"content\": advanced_developer_message\n",
    "            },\n",
    "            {\n",
    "                \"role\": \"user\",\n",
    "                \"content\": basic_prompts[0]\n",
    "            }\n",
    "        ],\n",
    "        seed=seed\n",
    "    )\n",
    "    data = data_generation.choices[0].message.content\n",
    "    # data = data_generation.choices[0].message.content\n",
    "    # start_index = data.find('{')\n",
    "    # end_index = data.rfind('}')\n",
    "    # data = data[start_index:end_index + 1]\n",
    "    # data = data.strip()\n",
    "    \n",
    "    # # Split JSON objects (assuming each starts with '{' and ends with '}')\n",
    "    # raw_objects = data.split('}\\n{')\n",
    "    # clean_objects = [obj if obj.startswith('{') else '{' + obj for obj in raw_objects]\n",
    "    # clean_objects = [obj if obj.endswith('}') else obj + '}' for obj in clean_objects]\n",
    "\n",
    "    # # Parse each object into a Python dictionary\n",
    "    # records = [json.loads(obj) for obj in clean_objects]\n",
    "\n",
    "    full_data.append(data)"
   ]
  },
  {
   "cell_type": "code",
   "execution_count": 32,
   "metadata": {},
   "outputs": [
    {
     "name": "stdout",
     "output_type": "stream",
     "text": [
      "File created at: full_data/advanced_dev_message_w_basic_prompt_records.txt\n"
     ]
    }
   ],
   "source": [
    "import os\n",
    "\n",
    "# Define the folder and file paths\n",
    "folder_path = \"../full_data\"\n",
    "file_name = \"advanced_dev_message_w_basic_prompt_records.txt\"\n",
    "file_path = os.path.join(folder_path, file_name)\n",
    "\n",
    "# Create the folder if it doesn't exist\n",
    "os.makedirs(folder_path, exist_ok=True)\n",
    "\n",
    "# Write to the file\n",
    "with open(file_path, \"w\") as file:\n",
    "    for item in full_data:\n",
    "        file.write(f\"{item}\\n\")\n",
    "\n",
    "print(f\"File created at: {file_path}\")"
   ]
  },
  {
   "cell_type": "code",
   "execution_count": 50,
   "metadata": {},
   "outputs": [
    {
     "name": "stdout",
     "output_type": "stream",
     "text": [
      "\n",
      "  \"Name\": \"Eva Martins\",\n",
      "  \"Age\": 34,\n",
      "  \"Gender\": \"female\",\n",
      "  \"Blood Type\": \"O\",\n",
      "  \"Medical Condition\": \"hypertension\",\n",
      "  \"Date of Admission\": \"2023-08-15\",\n",
      "  \"Doctor\": \"Dr. Patel\",\n",
      "  \"Hospital\": \"City General Hospital\",\n",
      "  \"Insurance Provider\": \"United Healthcare\",\n",
      "  \"Billing Amount\": 12000.0,\n",
      "  \"Room Number\": 205,\n",
      "  \"Admission Type\": \"urgent\",\n",
      "  \"Discharge Date\": \"2023-08-20\",\n",
      "  \"Medication\": \"amlodipine\",\n",
      "  \"Test Results\": \"blood pressure high\"\n",
      "\n",
      "['']\n"
     ]
    },
    {
     "ename": "IndexError",
     "evalue": "list index out of range",
     "output_type": "error",
     "traceback": [
      "\u001b[0;31m---------------------------------------------------------------------------\u001b[0m",
      "\u001b[0;31mIndexError\u001b[0m                                Traceback (most recent call last)",
      "Cell \u001b[0;32mIn[50], line 23\u001b[0m\n\u001b[1;32m     21\u001b[0m     feature \u001b[38;5;241m=\u001b[39m feature\u001b[38;5;241m.\u001b[39mreplace(\u001b[38;5;124m'\u001b[39m\u001b[38;5;124m\"\u001b[39m\u001b[38;5;124m'\u001b[39m, \u001b[38;5;124m'\u001b[39m\u001b[38;5;124m'\u001b[39m)\u001b[38;5;241m.\u001b[39msplit(\u001b[38;5;124m'\u001b[39m\u001b[38;5;124m:\u001b[39m\u001b[38;5;124m'\u001b[39m)\n\u001b[1;32m     22\u001b[0m     \u001b[38;5;28mprint\u001b[39m(feature)\n\u001b[0;32m---> 23\u001b[0m     key, value \u001b[38;5;241m=\u001b[39m feature[\u001b[38;5;241m0\u001b[39m]\u001b[38;5;241m.\u001b[39mstrip(), \u001b[43mfeature\u001b[49m\u001b[43m[\u001b[49m\u001b[38;5;241;43m1\u001b[39;49m\u001b[43m]\u001b[49m\u001b[38;5;241m.\u001b[39mstrip()\n\u001b[1;32m     24\u001b[0m     data_dictionary[key]\u001b[38;5;241m.\u001b[39mappend(value)\n\u001b[1;32m     25\u001b[0m \u001b[38;5;28;01mbreak\u001b[39;00m\n",
      "\u001b[0;31mIndexError\u001b[0m: list index out of range"
     ]
    }
   ],
   "source": [
    "import re\n",
    "from collections import defaultdict\n",
    "\n",
    "with open('../full_data/advanced_dev_message_w_basic_prompt_records.txt', 'r') as file:\n",
    "    content = file.read()\n",
    "\n",
    "# print(content)\n",
    "\n",
    "# Regular expression to extract content within curly braces\n",
    "pattern = r\"\\{([^}]*)\\}\"  # Matches content inside {}\n",
    "\n",
    "# Find all matches\n",
    "matches = re.findall(pattern, content)\n",
    "# print(matches[0])\n",
    "\n",
    "# Process each match to create key-value dictionaries\n",
    "data_dictionary = defaultdict(list)\n",
    "for match in matches:\n",
    "    print(match)\n",
    "    for feature in match.split(\"\\n\"):\n",
    "        feature = feature.strip().replace('\"', '').split(':')\n",
    "        print(feature)\n",
    "        key, value = feature[0].strip(), feature[1].strip()\n",
    "        data_dictionary[key].append(value)\n",
    "    break\n",
    "\n",
    "print(data_dictionary)"
   ]
  },
  {
   "cell_type": "code",
   "execution_count": 28,
   "metadata": {},
   "outputs": [
    {
     "name": "stdout",
     "output_type": "stream",
     "text": [
      "0\n",
      "{'Name': 'Eva Martins', 'Age': 34, 'Gender': 'female', 'Blood Type': 'O', 'Medical Condition': 'hypertension', 'Date of Admission': '2023-08-15', 'Doctor': 'Dr. Patel', 'Hospital': 'Metropolitan Health Center', 'Insurance Provider': 'Cigna', 'Billing Amount': 2100.0, 'Room Number': 205, 'Admission Type': 'elective', 'Discharge Date': '2023-08-19', 'Medication': 'lisinopril', 'Test Results': 'blood pressure high'}\n",
      "{'Name': 'Juan Gonzalez', 'Age': 45, 'Gender': 'male', 'Blood Type': 'A', 'Medical Condition': 'diabetes', 'Date of Admission': '2023-07-21', 'Doctor': 'Dr. Li', 'Hospital': 'Central City Hospital', 'Insurance Provider': 'United Healthcare', 'Billing Amount': 8500.0, 'Room Number': 410, 'Admission Type': 'urgent', 'Discharge Date': '2023-07-25', 'Medication': 'metformin', 'Test Results': 'HbA1c high'}\n",
      "{'Name': 'Alice Jones', 'Age': 72, 'Gender': 'female', 'Blood Type': 'B', 'Medical Condition': 'pneumonia', 'Date of Admission': '2023-06-30', 'Doctor': 'Dr. Kim', 'Hospital': 'Green Valley Medical', 'Insurance Provider': 'Blue Shield', 'Billing Amount': 14000.0, 'Room Number': 12, 'Admission Type': 'emergency', 'Discharge Date': '2023-07-07', 'Medication': 'antibiotics', 'Test Results': 'chest X-ray positive for infection'}\n",
      "{'Name': 'Noah Sanders', 'Age': 28, 'Gender': 'other', 'Blood Type': 'AB', 'Medical Condition': 'appendicitis', 'Date of Admission': '2023-09-15', 'Doctor': 'Dr. Williams', 'Hospital': 'City Care Hospital', 'Insurance Provider': 'Cigna', 'Billing Amount': 18500.0, 'Room Number': 33, 'Admission Type': 'emergency', 'Discharge Date': '2023-09-18', 'Medication': 'post-surgery pain relief', 'Test Results': 'CT scan positive for appendicitis'}\n",
      "{'Name': 'Liam Nguyen', 'Age': 6, 'Gender': 'male', 'Blood Type': 'O', 'Medical Condition': 'ear infection', 'Date of Admission': '2023-05-10', 'Doctor': 'Dr. Smith', 'Hospital': \"Children's Hospital\", 'Insurance Provider': 'Aetna', 'Billing Amount': 1300.0, 'Room Number': 105, 'Admission Type': 'urgent', 'Discharge Date': '2023-05-12', 'Medication': 'antibiotics', 'Test Results': 'ear culture positive'}\n",
      "{'Name': 'Sofia Lee', 'Age': 59, 'Gender': 'female', 'Blood Type': 'A', 'Medical Condition': 'asthma', 'Date of Admission': '2023-03-01', 'Doctor': 'Dr. Johnson', 'Hospital': 'Riverside Medical Center', 'Insurance Provider': 'Kaiser Permanente', 'Billing Amount': 890.0, 'Room Number': 38, 'Admission Type': 'elective', 'Discharge Date': '2023-03-03', 'Medication': 'inhalers', 'Test Results': 'spirometry showed reduced lung function'}\n",
      "{'Name': 'Chris Patel', 'Age': 92, 'Gender': 'male', 'Blood Type': 'AB', 'Medical Condition': 'heart failure', 'Date of Admission': '2023-04-12', 'Doctor': 'Dr. Anand', 'Hospital': 'Metropolitan Health Center', 'Insurance Provider': 'Medicare', 'Billing Amount': 27500.0, 'Room Number': 307, 'Admission Type': 'emergency', 'Discharge Date': '2023-04-20', 'Medication': 'ACE inhibitors', 'Test Results': 'echocardiogram shows reduced ejection fraction'}\n",
      "{'Name': 'Willow Chambers', 'Age': 41, 'Gender': 'female', 'Blood Type': 'B', 'Medical Condition': 'migraine', 'Date of Admission': '2023-02-15', 'Doctor': 'Dr. Nguyen', 'Hospital': 'Eastside Community Clinic', 'Insurance Provider': 'Cigna', 'Billing Amount': 480.0, 'Room Number': 102, 'Admission Type': 'elective', 'Discharge Date': '2023-02-16', 'Medication': 'triptans', 'Test Results': 'neurological exam normal'}\n",
      "{'Name': 'Ravi Darzi', 'Age': 64, 'Gender': 'male', 'Blood Type': 'O', 'Medical Condition': 'prostate cancer', 'Date of Admission': '2023-01-18', 'Doctor': 'Dr. White', 'Hospital': 'Central City Hospital', 'Insurance Provider': 'United Healthcare', 'Billing Amount': 22000.0, 'Room Number': 520, 'Admission Type': 'urgent', 'Discharge Date': '2023-01-26', 'Medication': 'hormone therapy', 'Test Results': 'PSA levels high'}\n",
      "{'Name': 'Zara Khan', 'Age': 14, 'Gender': 'female', 'Blood Type': 'B', 'Medical Condition': 'allergy', 'Date of Admission': '2023-10-05', 'Doctor': 'Dr. Ali', 'Hospital': 'Green Valley Medical', 'Insurance Provider': 'Blue Shield', 'Billing Amount': 760.0, 'Room Number': 18, 'Admission Type': 'elective', 'Discharge Date': '2023-10-06', 'Medication': 'antihistamines', 'Test Results': 'allergy test positive'}\n"
     ]
    }
   ],
   "source": [
    "print(len(full_data))\n",
    "for record in records[:10]:\n",
    "    print(record)"
   ]
  },
  {
   "cell_type": "code",
   "execution_count": 7,
   "metadata": {},
   "outputs": [
    {
     "name": "stdout",
     "output_type": "stream",
     "text": [
      "Data successfully written to advanced_dev_message_w_basic_prompt_records.csv\n"
     ]
    }
   ],
   "source": [
    "# Specify the CSV file name\n",
    "csv_file = \"advanced_dev_message_w_basic_prompt_records.csv\"\n",
    "\n",
    "# Write to CSV\n",
    "with open(csv_file, mode='w', newline='', encoding='utf-8') as file:\n",
    "    # Create a CSV writer object\n",
    "    writer = csv.DictWriter(file, fieldnames=data[0].keys())\n",
    "    \n",
    "    # Write the header row\n",
    "    writer.writeheader()\n",
    "    \n",
    "    # Write the data rows\n",
    "    writer.writerows(data)\n",
    "\n",
    "print(f\"Data successfully written to {csv_file}\")"
   ]
  }
 ],
 "metadata": {
  "kernelspec": {
   "display_name": "venv",
   "language": "python",
   "name": "python3"
  },
  "language_info": {
   "codemirror_mode": {
    "name": "ipython",
    "version": 3
   },
   "file_extension": ".py",
   "mimetype": "text/x-python",
   "name": "python",
   "nbconvert_exporter": "python",
   "pygments_lexer": "ipython3",
   "version": "3.11.4"
  }
 },
 "nbformat": 4,
 "nbformat_minor": 2
}
